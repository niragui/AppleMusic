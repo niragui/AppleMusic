{
 "cells": [
  {
   "cell_type": "code",
   "execution_count": 23,
   "metadata": {},
   "outputs": [],
   "source": [
    "from src.session.applesession import AppleSession\n",
    "from src.items.apple_genre import AppleGenre\n",
    "\n",
    "from src.common.exceptions import InvalidID"
   ]
  },
  {
   "cell_type": "code",
   "execution_count": 2,
   "metadata": {},
   "outputs": [],
   "source": [
    "session = AppleSession()"
   ]
  },
  {
   "cell_type": "code",
   "execution_count": 20,
   "metadata": {},
   "outputs": [],
   "source": [
    "valid_genres = [0, 2, 3, 4, 5, 6, 7, 8, 9, 10, 11, 12, 13, 14, 15, 16, 17, 18, 19, 20, 21, 22, 23, 24, 25, 26, 27, 28, 29, 30, 33, 34, 37, 41, 42, 43, 44, 45, 46, 50, 51, 52, 53]"
   ]
  },
  {
   "cell_type": "code",
   "execution_count": 25,
   "metadata": {},
   "outputs": [
    {
     "name": "stdout",
     "output_type": "stream",
     "text": [
      "0 Could Not Be Found\n",
      "Podcasts Has No Parent\n",
      "Movies Has No Parent\n",
      "Music Has No Parent\n",
      "Tones Has No Parent\n"
     ]
    },
    {
     "data": {
      "text/plain": [
       "{'Music': ['Blues',\n",
       "  'Comedy',\n",
       "  \"Children's Music\",\n",
       "  'Classical',\n",
       "  'Country',\n",
       "  'Electronic',\n",
       "  'Holiday',\n",
       "  'Singer/Songwriter',\n",
       "  'Jazz',\n",
       "  'Latin',\n",
       "  'New Age',\n",
       "  'Pop',\n",
       "  'R&B/Soul',\n",
       "  'Soundtrack',\n",
       "  'Dance',\n",
       "  'Hip-Hop/Rap',\n",
       "  'Worldwide',\n",
       "  'Alternative',\n",
       "  'Rock',\n",
       "  'Christian',\n",
       "  'Vocal',\n",
       "  'Reggae',\n",
       "  'Easy Listening',\n",
       "  'J-Pop',\n",
       "  'Enka',\n",
       "  'Anime',\n",
       "  'Kayokyoku',\n",
       "  'Fitness & Workout',\n",
       "  'Karaoke',\n",
       "  'Instrumental'],\n",
       " 'Classical': ['Opera'],\n",
       " 'African': ['Alte',\n",
       "  'Amapiano',\n",
       "  'Afro-folk',\n",
       "  'Afro-fusion',\n",
       "  'African Dancehall',\n",
       "  'African Reggae'],\n",
       " 'Pop': ['K-Pop']}"
      ]
     },
     "execution_count": 25,
     "metadata": {},
     "output_type": "execute_result"
    }
   ],
   "source": [
    "family_tree = {}\n",
    "\n",
    "for genre_id in valid_genres:\n",
    "    try:\n",
    "        genre = AppleGenre(str(genre_id), session)\n",
    "    except InvalidID:\n",
    "        print(f\"{genre_id} Could Not Be Found\")\n",
    "        continue\n",
    "    \n",
    "    name = genre.name\n",
    "    parent_name = genre.parent_name\n",
    "\n",
    "    if parent_name is None:\n",
    "        print(f\"{name} Has No Parent\")\n",
    "        continue\n",
    "\n",
    "    bef_childs = family_tree.get(parent_name, [])\n",
    "    bef_childs.append(name)\n",
    "    family_tree[parent_name] = bef_childs\n",
    "\n",
    "family_tree"
   ]
  },
  {
   "cell_type": "code",
   "execution_count": 8,
   "metadata": {},
   "outputs": [],
   "source": [
    "genre.parent_name"
   ]
  },
  {
   "cell_type": "code",
   "execution_count": null,
   "metadata": {},
   "outputs": [],
   "source": []
  }
 ],
 "metadata": {
  "kernelspec": {
   "display_name": "Python 3.9.2 64-bit",
   "language": "python",
   "name": "python3"
  },
  "language_info": {
   "codemirror_mode": {
    "name": "ipython",
    "version": 3
   },
   "file_extension": ".py",
   "mimetype": "text/x-python",
   "name": "python",
   "nbconvert_exporter": "python",
   "pygments_lexer": "ipython3",
   "version": "3.9.2"
  },
  "orig_nbformat": 4,
  "vscode": {
   "interpreter": {
    "hash": "1216940c4e38f691f0c9776128da7d3573caf2e2e21e78e79d07e8540f1cf755"
   }
  }
 },
 "nbformat": 4,
 "nbformat_minor": 2
}
